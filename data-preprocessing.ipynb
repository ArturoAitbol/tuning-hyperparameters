{
  "cells": [
    {
      "cell_type": "markdown",
      "source": [
        "Importamos las librerias necesarias"
      ],
      "metadata": {
        "nteract": {
          "transient": {
            "deleting": false
          }
        }
      }
    },
    {
      "cell_type": "code",
      "source": [
        "from azure.identity import DefaultAzureCredential\n",
        "from azure.ai.ml import MLClient\n",
        "from azure.ai.ml import automl"
      ],
      "outputs": [
        {
          "output_type": "error",
          "ename": "ModuleNotFoundError",
          "evalue": "No module named 'azure.ai'",
          "traceback": [
            "\u001b[0;31m---------------------------------------------------------------------------\u001b[0m",
            "\u001b[0;31mModuleNotFoundError\u001b[0m                       Traceback (most recent call last)",
            "Cell \u001b[0;32mIn[1], line 2\u001b[0m\n\u001b[1;32m      1\u001b[0m \u001b[38;5;28;01mfrom\u001b[39;00m \u001b[38;5;21;01mazure\u001b[39;00m\u001b[38;5;21;01m.\u001b[39;00m\u001b[38;5;21;01midentity\u001b[39;00m \u001b[38;5;28;01mimport\u001b[39;00m DefaultAzureCredential\n\u001b[0;32m----> 2\u001b[0m \u001b[38;5;28;01mfrom\u001b[39;00m \u001b[38;5;21;01mazure\u001b[39;00m\u001b[38;5;21;01m.\u001b[39;00m\u001b[38;5;21;01mai\u001b[39;00m\u001b[38;5;21;01m.\u001b[39;00m\u001b[38;5;21;01mml\u001b[39;00m \u001b[38;5;28;01mimport\u001b[39;00m MLClient\n\u001b[1;32m      3\u001b[0m \u001b[38;5;28;01mfrom\u001b[39;00m \u001b[38;5;21;01mazure\u001b[39;00m\u001b[38;5;21;01m.\u001b[39;00m\u001b[38;5;21;01mai\u001b[39;00m\u001b[38;5;21;01m.\u001b[39;00m\u001b[38;5;21;01mml\u001b[39;00m \u001b[38;5;28;01mimport\u001b[39;00m automl\n",
            "\u001b[0;31mModuleNotFoundError\u001b[0m: No module named 'azure.ai'"
          ]
        }
      ],
      "execution_count": 1,
      "metadata": {
        "jupyter": {
          "source_hidden": false,
          "outputs_hidden": true
        },
        "nteract": {
          "transient": {
            "deleting": false
          }
        },
        "gather": {
          "logged": 1698206327393
        }
      }
    },
    {
      "cell_type": "markdown",
      "source": [
        "Instanciar un cliente de ML con Azure"
      ],
      "metadata": {
        "nteract": {
          "transient": {
            "deleting": false
          }
        }
      }
    },
    {
      "cell_type": "code",
      "source": [
        "credential = DefaultAzureCredential()\n",
        "ml_client = MLClient.from_config(credential)"
      ],
      "outputs": [
        {
          "output_type": "stream",
          "name": "stderr",
          "text": "Found the config file in: /config.json\n"
        }
      ],
      "execution_count": 3,
      "metadata": {
        "jupyter": {
          "source_hidden": false,
          "outputs_hidden": false
        },
        "nteract": {
          "transient": {
            "deleting": false
          }
        },
        "gather": {
          "logged": 1698205341642
        }
      }
    },
    {
      "cell_type": "markdown",
      "source": [
        "**Descargamos el dataset en la Instance que ejecuta este notebook**"
      ],
      "metadata": {
        "nteract": {
          "transient": {
            "deleting": false
          }
        }
      }
    },
    {
      "cell_type": "code",
      "source": [
        "import os\n",
        "import urllib\n",
        "from zipfile import ZipFile\n",
        "\n",
        "# Definimos el directorio en el que se encontrará el dataset\n",
        "dataset_parent_dir = \"./data\"\n",
        "\n",
        "# Crea el folder si este no existe\n",
        "os.makedirs(dataset_parent_dir, exist_ok=True)\n",
        "\n",
        "# Descargamos el dataset (zip file)\n",
        "download_url = \"http://dl.dropboxusercontent.com/scl/fi/qjlh5uvhwiaixcmw67fq0/fire_dataset.zip?rlkey=j1j8wdy522dcbp4augpegtpkz&dl=0\"\n",
        "\n",
        "# Definimos el nombre del dataset\n",
        "dataset_name = \"fire_dataset\"\n",
        "\n",
        "# Directorio del dataset = ./data/fire_dataset\n",
        "dataset_dir = os.path.join(dataset_parent_dir, dataset_name)\n",
        "\n",
        "print(dataset_name)\n",
        "print(dataset_dir)"
      ],
      "outputs": [
        {
          "output_type": "stream",
          "name": "stdout",
          "text": "fire_dataset\n./data/fire_dataset\n"
        }
      ],
      "execution_count": 1,
      "metadata": {
        "jupyter": {
          "source_hidden": false,
          "outputs_hidden": false
        },
        "nteract": {
          "transient": {
            "deleting": false
          }
        },
        "gather": {
          "logged": 1698205331881
        }
      }
    },
    {
      "cell_type": "code",
      "source": [
        "# Get the data zip file path ./data/fire_dataset.zip\n",
        "data_file = os.path.join(dataset_parent_dir, f\"{dataset_name}.zip\")\n",
        "\n",
        "# Descargamos el dataset en data_file = ./data/fire_dataset.zip\n",
        "urllib.request.urlretrieve(download_url, filename=data_file)\n",
        "\n",
        "# extract files\n",
        "with ZipFile(data_file, \"r\") as zip:\n",
        "    print(\"extracting files...\")\n",
        "    zip.extractall(path=dataset_parent_dir)\n",
        "    print(\"done\")"
      ],
      "outputs": [
        {
          "output_type": "stream",
          "name": "stdout",
          "text": "extracting files...\ndone\n"
        }
      ],
      "execution_count": 4,
      "metadata": {
        "jupyter": {
          "source_hidden": false,
          "outputs_hidden": false
        },
        "nteract": {
          "transient": {
            "deleting": false
          }
        },
        "gather": {
          "logged": 1698205461644
        }
      }
    },
    {
      "cell_type": "code",
      "source": [
        "# Mostramos una imagen para verificar que las imagenes hayan sido extraidas apropiadamente y estamos usando la estructura de directorios correcta\n",
        "from IPython.display import Image\n",
        "sample_image = os.path.join(dataset_dir, \"fire_images\", \"fire.5.png\") #./data/fire_dataset/fire_images/fire.5.png\n",
        "Image(filename=sample_image)"
      ],
      "outputs": [
        {
          "output_type": "execute_result",
          "execution_count": 5,
          "data": {
            "image/png": "[encoded data removed]",
            "text/plain": "<IPython.core.display.Image object>"
          },
          "metadata": {}
        }
      ],
      "execution_count": 5,
      "metadata": {
        "jupyter": {
          "source_hidden": false,
          "outputs_hidden": false
        },
        "nteract": {
          "transient": {
            "deleting": false
          }
        },
        "gather": {
          "logged": 1698205602837
        }
      }
    },
    {
      "cell_type": "markdown",
      "source": [
        "**Subimos el dataset al Data Blob Storage**"
      ],
      "metadata": {
        "nteract": {
          "transient": {
            "deleting": false
          }
        }
      }
    },
    {
      "cell_type": "code",
      "source": [
        "from azure.ai.ml.entities import Data\n",
        "from azure.ai.ml.constants import AssetTypes, InputOutputModes\n",
        "from azure.ai.ml import Input"
      ],
      "outputs": [
        {
          "output_type": "error",
          "ename": "ModuleNotFoundError",
          "evalue": "No module named 'azure.ai'",
          "traceback": [
            "\u001b[0;31m---------------------------------------------------------------------------\u001b[0m",
            "\u001b[0;31mModuleNotFoundError\u001b[0m                       Traceback (most recent call last)",
            "Cell \u001b[0;32mIn[3], line 1\u001b[0m\n\u001b[0;32m----> 1\u001b[0m \u001b[38;5;28;01mfrom\u001b[39;00m \u001b[38;5;21;01mazure\u001b[39;00m\u001b[38;5;21;01m.\u001b[39;00m\u001b[38;5;21;01mai\u001b[39;00m\u001b[38;5;21;01m.\u001b[39;00m\u001b[38;5;21;01mml\u001b[39;00m\u001b[38;5;21;01m.\u001b[39;00m\u001b[38;5;21;01mentities\u001b[39;00m \u001b[38;5;28;01mimport\u001b[39;00m Data\n\u001b[1;32m      2\u001b[0m \u001b[38;5;28;01mfrom\u001b[39;00m \u001b[38;5;21;01mazure\u001b[39;00m\u001b[38;5;21;01m.\u001b[39;00m\u001b[38;5;21;01mai\u001b[39;00m\u001b[38;5;21;01m.\u001b[39;00m\u001b[38;5;21;01mml\u001b[39;00m\u001b[38;5;21;01m.\u001b[39;00m\u001b[38;5;21;01mconstants\u001b[39;00m \u001b[38;5;28;01mimport\u001b[39;00m AssetTypes, InputOutputModes\n\u001b[1;32m      3\u001b[0m \u001b[38;5;28;01mfrom\u001b[39;00m \u001b[38;5;21;01mazure\u001b[39;00m\u001b[38;5;21;01m.\u001b[39;00m\u001b[38;5;21;01mai\u001b[39;00m\u001b[38;5;21;01m.\u001b[39;00m\u001b[38;5;21;01mml\u001b[39;00m \u001b[38;5;28;01mimport\u001b[39;00m Input\n",
            "\u001b[0;31mModuleNotFoundError\u001b[0m: No module named 'azure.ai'"
          ]
        }
      ],
      "execution_count": 3,
      "metadata": {
        "jupyter": {
          "source_hidden": false,
          "outputs_hidden": true
        },
        "nteract": {
          "transient": {
            "deleting": false
          }
        },
        "gather": {
          "logged": 1698206832981
        }
      }
    },
    {
      "cell_type": "code",
      "source": [
        "my_data = Data(\n",
        "    path=dataset_dir,\n",
        "    type=AssetTypes.URI_FOLDER,\n",
        "    description=\"fire and non-fire images\",\n",
        "    name=\"fire-images\",\n",
        ")\n",
        "\n",
        "uri_folder_data_asset = ml_client.data.create_or_update(my_data)\n"
      ],
      "outputs": [
        {
          "output_type": "stream",
          "name": "stderr",
          "text": "Your file exceeds 100 MB. If you experience low speeds, latency, or broken connections, we recommend using the AzCopyv10 tool for this file transfer.\n\nExample: azcopy copy '/mnt/batch/tasks/shared/LS_root/mounts/clusters/newinstacenotebook/code/Users/johancarlos.bo/image-classification-automl/data/fire_dataset' 'https://projectcompute8417190270.blob.core.windows.net/azureml-blobstore-b2ee0cc4-64c3-4500-9097-b4d1d1adcfee/LocalUpload/2b67a2cb841137e16386a28dd571d104/fire_dataset' \n\nSee https://docs.microsoft.com/azure/storage/common/storage-use-azcopy-v10 for more information.\n\u001b[32mUploading fire_dataset (408.78 MBs): 100%|██████████| 408783645/408783645 [00:16<00:00, 24757193.15it/s]\n\u001b[39m\n\n"
        }
      ],
      "execution_count": 7,
      "metadata": {
        "jupyter": {
          "source_hidden": false,
          "outputs_hidden": false
        },
        "nteract": {
          "transient": {
            "deleting": false
          }
        },
        "gather": {
          "logged": 1698205948209
        }
      }
    },
    {
      "cell_type": "code",
      "source": [
        "#Verificamos el uri folder donde se subió el folder de imagenes\n",
        "uri_folder_data_asset.path"
      ],
      "outputs": [
        {
          "output_type": "execute_result",
          "execution_count": 9,
          "data": {
            "text/plain": "'azureml://subscriptions/e9e586c7-142b-4da8-94cc-65b7d2615690/resourcegroups/computer-vision/workspaces/project-computer-vision/datastores/workspaceblobstore/paths/LocalUpload/2b67a2cb841137e16386a28dd571d104/fire_dataset/'"
          },
          "metadata": {}
        }
      ],
      "execution_count": 9,
      "metadata": {
        "jupyter": {
          "source_hidden": false,
          "outputs_hidden": false
        },
        "nteract": {
          "transient": {
            "deleting": false
          }
        },
        "gather": {
          "logged": 1698205956823
        }
      }
    },
    {
      "cell_type": "markdown",
      "source": [
        "**Creamos el archivo JSONL**"
      ],
      "metadata": {
        "nteract": {
          "transient": {
            "deleting": false
          }
        }
      }
    },
    {
      "cell_type": "code",
      "source": [
        "#Instalamos el package para trabajar con jsonlines\n",
        "!pip install jsonlines"
      ],
      "outputs": [
        {
          "output_type": "stream",
          "name": "stdout",
          "text": "Collecting jsonlines\n  Downloading jsonlines-4.0.0-py3-none-any.whl (8.7 kB)\nRequirement already satisfied: attrs>=19.2.0 in /anaconda/envs/azureml_py38/lib/python3.8/site-packages (from jsonlines) (23.1.0)\nInstalling collected packages: jsonlines\nSuccessfully installed jsonlines-4.0.0\n"
        }
      ],
      "execution_count": 10,
      "metadata": {
        "jupyter": {
          "source_hidden": false,
          "outputs_hidden": false
        },
        "nteract": {
          "transient": {
            "deleting": false
          }
        },
        "gather": {
          "logged": 1698206035396
        }
      }
    },
    {
      "cell_type": "markdown",
      "source": [
        "Cambiamos al kernel: _Python 3.8 ML_, ya que en este kernel fue instalado el paquete _jsonlines_  \n",
        "Sin embargo este kernel no tiene instalado los paquetes del SDk de azure (azure.ai.ml), que si estan instalados en _Python 3.10 - SDK v2_"
      ],
      "metadata": {
        "nteract": {
          "transient": {
            "deleting": false
          }
        }
      }
    },
    {
      "cell_type": "code",
      "source": [
        "import os\n",
        "from PIL import Image\n",
        "import jsonlines\n",
        "\n",
        "# Define the directory where your images are located\n",
        "image_dir = \"./data/fire_dataset/\"\n",
        "blob_storage_objects_path='azureml://subscriptions/e9e586c7-142b-4da8-94cc-65b7d2615690/resourcegroups/computer-vision/workspaces/project-computer-vision/datastores/workspaceblobstore/paths/LocalUpload/2b67a2cb841137e16386a28dd571d104/fire_dataset/'\n",
        "\n",
        "# Define the output JSONL file path\n",
        "output_jsonl_file = \"fire_images_png.jsonl\"\n",
        "\n",
        "# List of classes\n",
        "classes = [\"fire_images\", \"non_fire_images\"]\n",
        "\n",
        "# Open the JSONL file for writing\n",
        "with jsonlines.open(output_jsonl_file, mode='w') as writer:\n",
        "    # Loop through each class directory\n",
        "    for class_name in classes:\n",
        "        class_dir = os.path.join(image_dir, class_name)\n",
        "        # Check if the class directory exists\n",
        "        if os.path.exists(class_dir) and os.path.isdir(class_dir):\n",
        "            # List all image files in the class directory\n",
        "            image_files = [f for f in os.listdir(class_dir) if f.lower().endswith(('.jpg', '.jpeg', '.png', '.bmp'))]\n",
        "            print(f'images found in {class_dir}: {len(image_files)}')\n",
        "            # Loop through each image file\n",
        "            for image_file in image_files:\n",
        "                # Construct the full image path\n",
        "                image_path = os.path.join(class_dir, image_file)\n",
        "                \n",
        "                # Open the image to get its details\n",
        "                with Image.open(image_path) as img:\n",
        "                    image_details = {\n",
        "                        # \"format\": img.format,\n",
        "                        \"format\": 'png',\n",
        "                        \"width\": img.width,\n",
        "                        \"height\": img.height\n",
        "                    }\n",
        "                img_path_names = image_path.split('/')\n",
        "                # Create the JSON object for this image\n",
        "                image_info = {\n",
        "                    \"image_url\": f\"{blob_storage_objects_path}{img_path_names[-2]}/{img_path_names[-1]}\",\n",
        "                    \"image_details\": image_details,\n",
        "                    \"label\": class_name\n",
        "                }\n",
        "                \n",
        "                # Write the JSON object to the JSONL file\n",
        "                writer.write(image_info)\n",
        "        else:\n",
        "            print(f'directory:{class_dir} does not exists')\n",
        "print(f\"JSONL file '{output_jsonl_file}' has been created.\")\n"
      ],
      "outputs": [
        {
          "output_type": "stream",
          "name": "stdout",
          "text": "images found in ./data/fire_dataset/fire_images: 755\nimages found in ./data/fire_dataset/non_fire_images: 244\nJSONL file 'fire_images_png.jsonl' has been created.\n"
        }
      ],
      "execution_count": 5,
      "metadata": {
        "jupyter": {
          "source_hidden": false,
          "outputs_hidden": false
        },
        "nteract": {
          "transient": {
            "deleting": false
          }
        },
        "gather": {
          "logged": 1698209462638
        }
      }
    },
    {
      "cell_type": "code",
      "source": [],
      "outputs": [],
      "execution_count": null,
      "metadata": {
        "jupyter": {
          "source_hidden": false,
          "outputs_hidden": false
        },
        "nteract": {
          "transient": {
            "deleting": false
          }
        }
      }
    }
  ],
  "metadata": {
    "kernelspec": {
      "name": "python38-azureml",
      "language": "python",
      "display_name": "Python 3.8 - AzureML"
    },
    "language_info": {
      "name": "python",
      "version": "3.8.5",
      "mimetype": "text/x-python",
      "codemirror_mode": {
        "name": "ipython",
        "version": 3
      },
      "pygments_lexer": "ipython3",
      "nbconvert_exporter": "python",
      "file_extension": ".py"
    },
    "microsoft": {
      "ms_spell_check": {
        "ms_spell_check_language": "en"
      },
      "host": {
        "AzureML": {
          "notebookHasBeenCompleted": true
        }
      }
    },
    "kernel_info": {
      "name": "python38-azureml"
    },
    "nteract": {
      "version": "nteract-front-end@1.0.0"
    }
  },
  "nbformat": 4,
  "nbformat_minor": 2
}