{
 "cells": [
  {
   "cell_type": "markdown",
   "source": [
    "Realizamos la Importacion las librerias necesarias"
   ],
   "metadata": {
    "nteract": {
     "transient": {
      "deleting": false
     }
    }
   }
  },
  {
   "cell_type": "code",
   "source": [
    "from azure.identity import DefaultAzureCredential\n",
    "from azure.ai.ml import MLClient\n",
    "from azure.ai.ml import automl"
   ],
   "outputs": [],
   "execution_count": 1,
   "metadata": {
    "nteract": {
     "transient": {
      "deleting": false
     }
    },
    "gather": {
     "logged": 1698657367888
    }
   }
  },
  {
   "cell_type": "markdown",
   "source": [
    "Instanciar un cliente de ML con Azure"
   ],
   "metadata": {
    "nteract": {
     "transient": {
      "deleting": false
     }
    }
   }
  },
  {
   "cell_type": "code",
   "source": [
    "credential = DefaultAzureCredential()\n",
    "ml_client = MLClient.from_config(credential)"
   ],
   "outputs": [
    {
     "output_type": "stream",
     "name": "stderr",
     "text": "Found the config file in: /config.json\n"
    }
   ],
   "execution_count": 2,
   "metadata": {
    "nteract": {
     "transient": {
      "deleting": false
     }
    },
    "gather": {
     "logged": 1698657377580
    }
   }
  },
  {
   "cell_type": "markdown",
   "source": [
    "Descargamos el dataset en la Instance que ejecuta este notebook"
   ],
   "metadata": {
    "nteract": {
     "transient": {
      "deleting": false
     }
    }
   }
  },
  {
   "cell_type": "markdown",
   "source": [
    "Creamos el directorio y definimos el nombre del dataset.\n",
    "Dataset utilizado: Fire dataset\n",
    "Kaggle link: https://www.kaggle.com/datasets/phylake1337/fire-dataset/\n",
    "Nota: El dataset fue cargado a dropbox para tener un link de descarga, ya que kaggle solicita logearse para poder hacer la descarga.\n",
    "El dataset fue creado para desarrollar un modelo que pueda reconocer imagenes con fuego.\n",
    "La data esta dividido en 2 folders: el primero (fire_images) cuenta con 755 imagenes de exterior con fuego algunas con humo en cantidad, el 2do folder (non-fire_images) contiene 244 imagenes de la naturaleza(bosque, arboles, rios, personas, animales etc.)"
   ],
   "metadata": {
    "nteract": {
     "transient": {
      "deleting": false
     }
    }
   }
  },
  {
   "cell_type": "code",
   "source": [
    "import os\n",
    "import urllib\n",
    "from zipfile import ZipFile\n",
    "\n",
    "# Definimos el directorio en el que se encontrará el dataset\n",
    "dataset_parent_dir = \"./data\"\n",
    "\n",
    "# Creamos el folder si este no existe\n",
    "os.makedirs(dataset_parent_dir, exist_ok=True)\n",
    "\n",
    "# Descargamos el dataset (zip file)\n",
    "# download_url = \"http://dl.dropboxusercontent.com/scl/fi/vunb18zup3gbyr8y1y9pc/fire_dataset.zip?rlkey=xx02qvqkavsm1i7i9qps44ub5&dl=0\" JPG\n",
    "download_url = \"http://dl.dropboxusercontent.com/scl/fi/vt8xqj3lt67fm2a5siil9/fire_dataset.zip?rlkey=rt5r7hcs9w6h6dr4sxocey9qb&dl=0\"\n",
    "\n",
    "# Definimos el nombre del dataset\n",
    "dataset_name = \"fire_dataset\"\n",
    "\n",
    "# Definimos el directorio del dataset = ./data/fire_dataset\n",
    "dataset_dir = os.path.join(dataset_parent_dir, dataset_name)\n",
    "\n",
    "print(dataset_name)\n",
    "print(dataset_dir)"
   ],
   "outputs": [
    {
     "output_type": "stream",
     "name": "stdout",
     "text": "fire_dataset\n./data/fire_dataset\n"
    }
   ],
   "execution_count": 3,
   "metadata": {
    "nteract": {
     "transient": {
      "deleting": false
     }
    },
    "gather": {
     "logged": 1698657385684
    }
   }
  },
  {
   "cell_type": "markdown",
   "source": [
    "Descargamos el archivo .zip\n",
    "El dataset al ser computer vision, y obtener las imagenes en el .zip no necesita hacerse la limpieza de datos."
   ],
   "metadata": {
    "nteract": {
     "transient": {
      "deleting": false
     }
    }
   }
  },
  {
   "cell_type": "code",
   "source": [
    "# Get the data zip file path ./data/fire_dataset.zip\n",
    "data_file = os.path.join(dataset_parent_dir, f\"{dataset_name}.zip\")\n",
    "\n",
    "# Descargamos el dataset en data_file = ./data/fire_dataset.zip\n",
    "urllib.request.urlretrieve(download_url, filename=data_file)\n",
    "\n",
    "# Extraemos la carpeta fire_dataset del zip file al directorio ./data/\n",
    "with ZipFile(data_file, \"r\") as zip:\n",
    "    print(\"extracting files...\")\n",
    "    zip.extractall(path=dataset_parent_dir)\n",
    "    print(\"done\")\n",
    "\n",
    "# Eliminamos el zip file para que no ocupe inecesariamente espacio en la instancia\n",
    "os.remove(data_file)"
   ],
   "outputs": [
    {
     "output_type": "stream",
     "name": "stdout",
     "text": "extracting files...\ndone\n"
    }
   ],
   "execution_count": 4,
   "metadata": {
    "nteract": {
     "transient": {
      "deleting": false
     }
    },
    "gather": {
     "logged": 1698657477597
    }
   }
  },
  {
   "cell_type": "code",
   "source": [
    "# Mostramos una imagen para verificar que las imagenes hayan sido extraidas apropiadamente y estamos usando la estructura de directorios correcta\n",
    "from IPython.display import Image\n",
    "sample_image = os.path.join(dataset_dir, \"fire_images\", \"005.png\") #./data/fire_dataset/fire_images/005.png\n",
    "Image(filename=sample_image)"
   ],
   "outputs": [
    {
     "output_type": "execute_result",
     "execution_count": 6,
     "data": {
      "image/png": "[encoded data removed]",
      "text/plain": "<IPython.core.display.Image object>"
     },
     "metadata": {}
    }
   ],
   "execution_count": 6,
   "metadata": {
    "nteract": {
     "transient": {
      "deleting": false
     }
    },
    "gather": {
     "logged": 1698657533160
    }
   }
  },
  {
   "cell_type": "markdown",
   "source": [
    "**Subimos el dataset al Data Blob Storage**"
   ],
   "metadata": {
    "nteract": {
     "transient": {
      "deleting": false
     }
    }
   }
  },
  {
   "cell_type": "code",
   "source": [
    "# Importamos las librerias necesarias del SDK\n",
    "from azure.ai.ml.entities import Data\n",
    "from azure.ai.ml.constants import AssetTypes, InputOutputModes\n",
    "from azure.ai.ml import Input"
   ],
   "outputs": [],
   "execution_count": 7,
   "metadata": {
    "nteract": {
     "transient": {
      "deleting": false
     }
    },
    "gather": {
     "logged": 1698657536505
    }
   }
  },
  {
   "cell_type": "code",
   "source": [
    "my_data = Data(\n",
    "    path=dataset_dir,\n",
    "    type=AssetTypes.URI_FOLDER,\n",
    "    description=\"fire and non-fire images\",\n",
    "    name=\"fire-images-png\",\n",
    ")\n",
    "\n",
    "uri_folder_data_asset = ml_client.data.create_or_update(my_data)"
   ],
   "outputs": [
    {
     "output_type": "stream",
     "name": "stderr",
     "text": "Your file exceeds 100 MB. If you experience low speeds, latency, or broken connections, we recommend using the AzCopyv10 tool for this file transfer.\n\nExample: azcopy copy '/mnt/batch/tasks/shared/LS_root/mounts/clusters/new-notebook-instance/code/Users/velasquito.md/data/fire_dataset' 'https://project15110851388.blob.core.windows.net/azureml-blobstore-2529274f-eb40-47ee-99d6-bf10bf3c7049/LocalUpload/336a247584f8fd84dccd4763d7781e77/fire_dataset' \n\nSee https://docs.microsoft.com/azure/storage/common/storage-use-azcopy-v10 for more information.\n\u001B[32mUploading fire_dataset (408.78 MBs): 100%|██████████| 408783015/408783015 [00:15<00:00, 26062646.12it/s]\n\u001B[39m\n\n"
    }
   ],
   "execution_count": 8,
   "metadata": {
    "nteract": {
     "transient": {
      "deleting": false
     }
    },
    "gather": {
     "logged": 1698657725207
    }
   }
  },
  {
   "cell_type": "code",
   "source": [
    "#Verificamos el uri folder donde se subió el folder de imagenes\n",
    "uri_folder_data_asset.path"
   ],
   "outputs": [
    {
     "output_type": "execute_result",
     "execution_count": 10,
     "data": {
      "text/plain": "'azureml://subscriptions/a3ceb55c-eb6c-4fb9-920b-527d0ef94616/resourcegroups/computer-vision-project/workspaces/project-1/datastores/workspaceblobstore/paths/LocalUpload/336a247584f8fd84dccd4763d7781e77/fire_dataset/'"
     },
     "metadata": {}
    }
   ],
   "execution_count": 10,
   "metadata": {
    "nteract": {
     "transient": {
      "deleting": false
     }
    },
    "gather": {
     "logged": 1698657741650
    }
   }
  },
  {
   "cell_type": "markdown",
   "source": [
    "**Creamos el archivo JSONL**"
   ],
   "metadata": {
    "nteract": {
     "transient": {
      "deleting": false
     }
    }
   }
  },
  {
   "cell_type": "markdown",
   "source": [
    "La libería _jsonlines_ será instalada en el kernel \"Python 3.8\", por ello esta ultima parte será trabajada con ese kernel.  \n",
    "Sin embargo este kernel no tiene instalado los paquetes del SDk de azure (azure.ai.ml), que si estan instalados en _Python 3.10 - SDK v2_"
   ],
   "metadata": {
    "nteract": {
     "transient": {
      "deleting": false
     }
    }
   }
  },
  {
   "cell_type": "code",
   "source": [
    "#Instalamos el package para trabajar con jsonlines\n",
    "!pip install jsonlines"
   ],
   "outputs": [
    {
     "output_type": "stream",
     "name": "stdout",
     "text": "Requirement already satisfied: jsonlines in /anaconda/envs/azureml_py38/lib/python3.8/site-packages (4.0.0)\r\nRequirement already satisfied: attrs>=19.2.0 in /anaconda/envs/azureml_py38/lib/python3.8/site-packages (from jsonlines) (23.1.0)\r\n"
    }
   ],
   "execution_count": 1,
   "metadata": {
    "nteract": {
     "transient": {
      "deleting": false
     }
    },
    "gather": {
     "logged": 1698657795497
    }
   }
  },
  {
   "cell_type": "code",
   "source": [
    "import os\n",
    "from PIL import Image\n",
    "import jsonlines\n",
    "\n",
    "# Define the directory where your images are located\n",
    "image_dir = \"./data/fire_dataset/\"\n",
    "blob_storage_objects_path='azureml://subscriptions/a3ceb55c-eb6c-4fb9-920b-527d0ef94616/resourcegroups/computer-vision-project/workspaces/project-1/datastores/workspaceblobstore/paths/LocalUpload/336a247584f8fd84dccd4763d7781e77/fire_dataset/'\n",
    "\n",
    "# *** Define the output JSONL file path ***\n",
    "output_jsonl_file = \"fire_images.jsonl\"\n",
    "\n",
    "# List of classes\n",
    "classes = [\"fire_images\", \"non_fire_images\"]\n",
    "\n",
    "# Open the JSONL file for writing\n",
    "with jsonlines.open(output_jsonl_file, mode='w') as writer:\n",
    "    # Loop through each class directory\n",
    "    for class_name in classes:\n",
    "        class_dir = os.path.join(image_dir, class_name)\n",
    "        # Check if the class directory exists\n",
    "        if os.path.exists(class_dir) and os.path.isdir(class_dir):\n",
    "            # List all image files in the class directory\n",
    "            image_files = [f for f in os.listdir(class_dir) if f.lower().endswith(('.jpg', '.jpeg', '.png', '.bmp'))]\n",
    "            print(f'images found in {class_dir}: {len(image_files)}')\n",
    "            # Loop through each image file\n",
    "            for image_file in image_files:\n",
    "                # Construct the full image path\n",
    "                image_path = os.path.join(class_dir, image_file)\n",
    "                \n",
    "                # Open the image to get its details\n",
    "                with Image.open(image_path) as img:\n",
    "                    image_details = {\n",
    "                        # \"format\": img.format,\n",
    "                        \"format\": 'png',\n",
    "                        \"width\": img.width,\n",
    "                        \"height\": img.height\n",
    "                    }\n",
    "                img_path_names = image_path.split('/')\n",
    "                # Create the JSON object for this image\n",
    "                image_info = {\n",
    "                    \"image_url\": f\"{blob_storage_objects_path}{img_path_names[-2]}/{img_path_names[-1]}\",\n",
    "                    \"image_details\": image_details,\n",
    "                    \"label\": class_name\n",
    "                }\n",
    "                \n",
    "                # Write the JSON object to the JSONL file\n",
    "                writer.write(image_info)\n",
    "        else:\n",
    "            print(f'directory:{class_dir} does not exists')\n",
    "print(f\"JSONL file '{output_jsonl_file}' has been created.\")\n"
   ],
   "outputs": [
    {
     "output_type": "stream",
     "name": "stdout",
     "text": "images found in ./data/fire_dataset/fire_images: 755\nimages found in ./data/fire_dataset/non_fire_images: 244\nJSONL file 'fire_images.jsonl' has been created.\n"
    }
   ],
   "execution_count": 2,
   "metadata": {
    "nteract": {
     "transient": {
      "deleting": false
     }
    },
    "gather": {
     "logged": 1698657863555
    }
   }
  },
  {
   "cell_type": "code",
   "source": [
    "Que problema pensamos en resolver?\n",
    "Utilizamos un dataset de imagenes con fuego, para resolver el problema de deteccion de incendios atraves de entrenar un modelo con imagenes que tienen fuego e imagenes que no tienen fuego."
   ],
   "outputs": [],
   "execution_count": null,
   "metadata": {
    "nteract": {
     "transient": {
      "deleting": false
     }
    }
   }
  }
 ],
 "metadata": {
  "kernelspec": {
   "name": "python38-azureml",
   "language": "python",
   "display_name": "Python 3.8 - AzureML"
  },
  "language_info": {
   "name": "python",
   "version": "3.8.5",
   "mimetype": "text/x-python",
   "codemirror_mode": {
    "name": "ipython",
    "version": 3
   },
   "pygments_lexer": "ipython3",
   "nbconvert_exporter": "python",
   "file_extension": ".py"
  },
  "microsoft": {
   "ms_spell_check": {
    "ms_spell_check_language": "en"
   },
   "host": {
    "AzureML": {
     "notebookHasBeenCompleted": true
    }
   }
  },
  "kernel_info": {
   "name": "python38-azureml"
  },
  "nteract": {
   "version": "nteract-front-end@1.0.0"
  }
 },
 "nbformat": 4,
 "nbformat_minor": 2
}
