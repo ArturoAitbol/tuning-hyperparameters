{
  "cells": [
    {
      "cell_type": "markdown",
      "source": [
        "## **Separamos el conjunto de datos de entrenamiento y validación**"
      ],
      "metadata": {
        "nteract": {
          "transient": {
            "deleting": false
          }
        }
      }
    },
    {
      "cell_type": "code",
      "source": [
        "# Definimos el directorio del dataset y el JSONL creado en pre-processing\n",
        "dataset_parent_dir = \"./data\"\n",
        "# jsonl_annotations = output_jsonl_file\n",
        "jsonl_annotations = 'fire_images_png.jsonl'\n",
        "print(jsonl_annotations)"
      ],
      "outputs": [
        {
          "output_type": "stream",
          "name": "stdout",
          "text": "fire_images_png.jsonl\n"
        }
      ],
      "execution_count": 9,
      "metadata": {
        "jupyter": {
          "source_hidden": false,
          "outputs_hidden": false
        },
        "nteract": {
          "transient": {
            "deleting": false
          }
        },
        "gather": {
          "logged": 1698214670432
        }
      }
    },
    {
      "cell_type": "markdown",
      "source": [
        "Creamos los archivos JSONL para entrenamiento (train_annotations.jsonl) y validación (validation_annotations.jsonl)"
      ],
      "metadata": {
        "nteract": {
          "transient": {
            "deleting": false
          }
        }
      }
    },
    {
      "cell_type": "code",
      "source": [
        "import json\n",
        "import os\n",
        "\n",
        "# Definimos los paths de los folders de entrenamiento y validacion ./data/training-mltable-folder\n",
        "training_mltable_path = os.path.join(dataset_parent_dir, \"training-mltable-folder\")\n",
        "validation_mltable_path = os.path.join(dataset_parent_dir, \"validation-mltable-folder\")\n",
        "\n",
        "# Creamos los folders: training-mltable-folder y validation-mltable-folder\n",
        "os.makedirs(training_mltable_path, exist_ok=True)\n",
        "os.makedirs(validation_mltable_path, exist_ok=True)\n",
        "\n",
        "# De cada 5 lineas que se lean del dataset original -> 4 lineas iran a training y 1 a validacion\n",
        "# es decir, de cada 10 samples, 2 iran a validacion y 8 al entrenamiento (20% validation - 80% training)\n",
        "train_validation_ratio = 5\n",
        "\n",
        "# Creamos los archivos jsonl para entrenamiento y validacion \n",
        "train_annotations_file = os.path.join(training_mltable_path, \"train_annotations_png.jsonl\")\n",
        "validation_annotations_file = os.path.join(validation_mltable_path, \"validation_annotations_png.jsonl\")\n",
        "\n",
        "# Leemos el archivo JSONL\n",
        "with open(jsonl_annotations, \"r\") as annot_f:\n",
        "    json_lines = annot_f.readlines()\n",
        "\n",
        "#Abrimos los archivos train_annotations.jsonl y validation_annotations.jsonl para distribuir records del jsonl_annotations (fire_images_png.jsonl)\n",
        "index = 0;\n",
        "with open(train_annotations_file, \"w\") as train_f:\n",
        "    with open(validation_annotations_file, \"w\") as validation_f:\n",
        "        for json_line in json_lines:\n",
        "            if index % train_validation_ratio == 0:\n",
        "                validation_f.write(json_line)\n",
        "            else:\n",
        "                train_f.write(json_line)\n",
        "            index += 1"
      ],
      "outputs": [],
      "execution_count": 10,
      "metadata": {
        "jupyter": {
          "source_hidden": false,
          "outputs_hidden": false
        },
        "nteract": {
          "transient": {
            "deleting": false
          }
        },
        "gather": {
          "logged": 1698214678165
        }
      }
    },
    {
      "cell_type": "markdown",
      "source": [
        "**Creamos el MLTable para enviar al job de AutoML**"
      ],
      "metadata": {
        "nteract": {
          "transient": {
            "deleting": false
          }
        }
      }
    },
    {
      "cell_type": "code",
      "source": [
        "def create_ml_table_file(filename):\n",
        "    return(\n",
        "        \"paths:\\n\"\n",
        "        \"  - file: ./{0}\\n\"\n",
        "        \"transformations:\\n\"\n",
        "        \"  - read_json_lines:\\n\"\n",
        "        \"      encoding: utf8\\n\"\n",
        "        \"      invalid_lines: error\\n\"\n",
        "        \"      include_path_column: false\\n\"\n",
        "        \"  - convert_column_type:\\n\"\n",
        "        \"    - columns: image_url\\n\"\n",
        "        \"      column_type: stream_info\"\n",
        "    ).format(filename)\n",
        "\n",
        "# Este metodo guarda el archivo \"MLTable\" en el directorio output_path ./data/training-mltable-folder\n",
        "def save_ml_table_file(output_path, mltable_file_contents):\n",
        "    with open(os.path.join(output_path, \"MLTable\"), \"w\") as f:\n",
        "        f.write(mltable_file_contents)\n",
        "\n",
        "# Creamos el train mltable\n",
        "train_mltable_file_contents = create_ml_table_file(os.path.basename(train_annotations_file))\n",
        "save_ml_table_file(training_mltable_path, train_mltable_file_contents)\n",
        "# Creamos el validation mltable\n",
        "validation_mltable_file_contents = create_ml_table_file(os.path.basename(validation_annotations_file))\n",
        "save_ml_table_file(validation_mltable_path, validation_mltable_file_contents)"
      ],
      "outputs": [],
      "execution_count": 11,
      "metadata": {
        "jupyter": {
          "source_hidden": false,
          "outputs_hidden": false
        },
        "nteract": {
          "transient": {
            "deleting": false
          }
        },
        "gather": {
          "logged": 1698215831982
        }
      }
    },
    {
      "cell_type": "markdown",
      "source": [
        "** Creamos los inputs para mandar al job de AutoML**"
      ],
      "metadata": {
        "nteract": {
          "transient": {
            "deleting": false
          }
        }
      }
    },
    {
      "cell_type": "code",
      "source": [
        "from azure.ai.ml.constants import AssetTypes, InputOutputModes\n",
        "from azure.ai.ml import Input\n",
        "\n",
        "#Definimos el input de entrenamiento que usa un MLTable y envia su path ./data/training-mltable-folder\n",
        "my_training_data_input = Input(type=AssetTypes.MLTABLE, path = training_mltable_path)\n",
        "print(my_training_data_input)\n",
        "\n",
        "my_validation_data_input = Input(type=AssetTypes.MLTABLE, path = validation_mltable_path)\n",
        "print(my_validation_data_input)"
      ],
      "outputs": [
        {
          "output_type": "stream",
          "name": "stdout",
          "text": "{'type': 'mltable', 'path': './data/training-mltable-folder'}\n./data/training-mltable-folder\n{'type': 'mltable', 'path': './data/validation-mltable-folder'}\n"
        }
      ],
      "execution_count": 16,
      "metadata": {
        "jupyter": {
          "source_hidden": false,
          "outputs_hidden": false
        },
        "nteract": {
          "transient": {
            "deleting": false
          }
        },
        "gather": {
          "logged": 1698217555548
        }
      }
    },
    {
      "cell_type": "code",
      "source": [
        "#Recuperar todo\n",
        "training_mltable_path = './data/training-mltable-folder'\n",
        "validation_mltable_path = './data/validation-mltable-folder'\n",
        "\n",
        "my_training_data_input = Input(type=AssetTypes.MLTABLE, path = training_mltable_path)\n",
        "print(my_training_data_input)\n",
        "my_validation_data_input = Input(type=AssetTypes.MLTABLE, path = validation_mltable_path)\n",
        "print(my_validation_data_input)"
      ],
      "outputs": [
        {
          "output_type": "stream",
          "name": "stdout",
          "text": "{'type': 'mltable', 'path': './data/training-mltable-folder'}\n{'type': 'mltable', 'path': './data/validation-mltable-folder'}\n"
        }
      ],
      "execution_count": 17,
      "metadata": {
        "jupyter": {
          "source_hidden": false,
          "outputs_hidden": false
        },
        "nteract": {
          "transient": {
            "deleting": false
          }
        },
        "gather": {
          "logged": 1698217628465
        }
      }
    },
    {
      "cell_type": "code",
      "source": [],
      "outputs": [],
      "execution_count": null,
      "metadata": {
        "jupyter": {
          "source_hidden": false,
          "outputs_hidden": false
        },
        "nteract": {
          "transient": {
            "deleting": false
          }
        }
      }
    }
  ],
  "metadata": {
    "kernelspec": {
      "name": "python310-sdkv2",
      "language": "python",
      "display_name": "Python 3.10 - SDK v2"
    },
    "language_info": {
      "name": "python",
      "version": "3.10.11",
      "mimetype": "text/x-python",
      "codemirror_mode": {
        "name": "ipython",
        "version": 3
      },
      "pygments_lexer": "ipython3",
      "nbconvert_exporter": "python",
      "file_extension": ".py"
    },
    "microsoft": {
      "ms_spell_check": {
        "ms_spell_check_language": "en"
      },
      "host": {
        "AzureML": {
          "notebookHasBeenCompleted": true
        }
      }
    },
    "nteract": {
      "version": "nteract-front-end@1.0.0"
    },
    "kernel_info": {
      "name": "python310-sdkv2"
    }
  },
  "nbformat": 4,
  "nbformat_minor": 2
}